{
 "cells": [
  {
   "cell_type": "code",
   "execution_count": 1,
   "metadata": {},
   "outputs": [],
   "source": [
    "import numpy as np\n",
    "import sqlite3 as lite\n",
    "import pandas as pd\n",
    "import plotly_express as px"
   ]
  },
  {
   "cell_type": "code",
   "execution_count": 3,
   "metadata": {},
   "outputs": [],
   "source": [
    "conn = lite.connect(\"/home/jedediah/Mount/USB/Logs/Conditions.db\")\n",
    "df = pd.read_sql_query(\"SELECT * FROM conditions\", conn)"
   ]
  },
  {
   "cell_type": "code",
   "execution_count": 8,
   "metadata": {},
   "outputs": [
    {
     "data": {
      "application/vnd.plotly.v1+json": {
       "config": {
        "linkText": "Export to plot.ly",
        "plotlyServerURL": "https://plot.ly",
        "showLink": false
       },
       "data": [
        {
         "hoverlabel": {
          "namelength": 0
         },
         "hovertemplate": "Local=%{x}<br>Temp=%{y}<br>Humidity=%{marker.color}",
         "legendgroup": "",
         "marker": {
          "color": [
           38.400001525878906,
           35.400001525878906,
           33.599998474121094,
           31.899999618530273,
           30.899999618530273,
           30.799999237060547,
           30.600000381469727,
           30.200000762939453,
           30.299999237060547,
           31.5,
           32.099998474121094,
           32.70000076293945,
           33.400001525878906,
           34.20000076293945,
           34.900001525878906,
           35.70000076293945,
           36.400001525878906,
           37.599998474121094,
           37.599998474121094,
           38.5,
           38.900001525878906,
           39.400001525878906,
           40,
           40.5,
           41,
           41.29999923706055,
           41.70000076293945,
           42.20000076293945,
           42.599998474121094,
           43.20000076293945,
           43.5,
           44,
           44.5,
           45,
           45.099998474121094,
           45.5,
           46.20000076293945,
           46.400001525878906,
           46.900001525878906,
           47,
           47.70000076293945,
           47.70000076293945,
           48.099998474121094,
           48.099998474121094,
           48,
           47.79999923706055,
           47.599998474121094,
           47.599998474121094,
           47.5,
           47.5,
           47.599998474121094,
           47.70000076293945,
           48.400001525878906,
           48.599998474121094,
           48.70000076293945,
           49,
           49.599998474121094,
           50.29999923706055,
           50.29999923706055,
           50.79999923706055,
           51.20000076293945,
           51.70000076293945,
           51.5,
           51.70000076293945,
           51.70000076293945,
           51.79999923706055,
           51.79999923706055,
           52.099998474121094,
           52,
           52.099998474121094,
           51.79999923706055,
           51.79999923706055,
           51.79999923706055,
           51.79999923706055,
           52,
           52.400001525878906,
           52.900001525878906,
           53.29999923706055,
           53.29999923706055
          ],
          "coloraxis": "coloraxis",
          "symbol": "circle"
         },
         "mode": "markers",
         "name": "",
         "showlegend": false,
         "type": "scatter",
         "uid": "8d70e3e4-6071-47b4-9fed-79f35b2f62ad",
         "x": [
          "2019-07-16 18:32:36.285070",
          "2019-07-16 18:37:36.970806",
          "2019-07-16 18:42:37.618316",
          "2019-07-16 18:47:38.299893",
          "2019-07-16 18:52:38.947790",
          "2019-07-16 18:57:39.628423",
          "2019-07-16 19:02:40.284120",
          "2019-07-16 19:07:40.958951",
          "2019-07-16 19:12:41.604074",
          "2019-07-16 19:17:42.277707",
          "2019-07-16 19:22:42.935464",
          "2019-07-16 19:27:43.608889",
          "2019-07-16 19:32:44.252275",
          "2019-07-16 19:37:44.921766",
          "2019-07-16 19:42:45.575949",
          "2019-07-16 19:47:46.252049",
          "2019-07-16 19:52:46.899340",
          "2019-07-16 19:57:50.103112",
          "2019-07-16 20:02:50.690485",
          "2019-07-16 20:07:51.363918",
          "2019-07-16 20:12:51.980504",
          "2019-07-16 20:17:52.658184",
          "2019-07-16 20:22:53.337270",
          "2019-07-16 20:27:53.942061",
          "2019-07-16 20:32:54.620176",
          "2019-07-16 20:37:55.214441",
          "2019-07-16 20:42:55.800773",
          "2019-07-16 20:47:56.475206",
          "2019-07-16 20:52:57.154364",
          "2019-07-16 20:57:57.829235",
          "2019-07-16 21:02:58.430880",
          "2019-07-16 21:07:59.112920",
          "2019-07-16 21:12:59.788583",
          "2019-07-16 21:18:00.463134",
          "2019-07-16 21:23:01.158887",
          "2019-07-16 21:28:01.828909",
          "2019-07-16 21:33:27.848925",
          "2019-07-16 21:38:33.539038",
          "2019-07-16 21:43:39.283655",
          "2019-07-16 21:48:50.090918",
          "2019-07-16 21:53:55.931380",
          "2019-07-16 21:59:21.841499",
          "2019-07-16 22:04:25.059542",
          "2019-07-16 22:09:25.708324",
          "2019-07-16 22:14:26.350630",
          "2019-07-16 22:19:26.994552",
          "2019-07-16 22:24:27.654188",
          "2019-07-16 22:29:28.301440",
          "2019-07-16 22:34:28.963791",
          "2019-07-16 22:39:29.689711",
          "2019-07-16 22:44:30.395321",
          "2019-07-16 22:49:31.110274",
          "2019-07-16 22:54:31.762398",
          "2019-07-16 22:59:32.360482",
          "2019-07-16 23:04:33.017154",
          "2019-07-16 23:09:33.790097",
          "2019-07-16 23:14:34.449676",
          "2019-07-16 23:19:35.185163",
          "2019-07-16 23:24:35.779711",
          "2019-07-16 23:29:36.427902",
          "2019-07-16 23:34:37.069482",
          "2019-07-16 23:39:37.737438",
          "2019-07-16 23:44:38.421884",
          "2019-07-16 23:49:39.067892",
          "2019-07-16 23:54:39.659335",
          "2019-07-16 23:59:40.240442",
          "2019-07-17 00:04:40.899946",
          "2019-07-17 00:09:41.581716",
          "2019-07-17 00:14:42.190321",
          "2019-07-17 00:19:42.840653",
          "2019-07-17 00:24:45.936688",
          "2019-07-17 00:29:46.627184",
          "2019-07-17 00:34:47.276624",
          "2019-07-17 00:39:48.040745",
          "2019-07-17 00:44:48.793963",
          "2019-07-17 00:49:49.530106",
          "2019-07-17 00:54:50.214685",
          "2019-07-17 00:59:50.853501",
          "2019-07-17 01:04:51.461781"
         ],
         "xaxis": "x",
         "y": [
          86.36000137329101,
          89.96000137329102,
          91.93999862670898,
          93.56000137329102,
          94.1,
          93.73999862670898,
          94.1,
          94.27999725341797,
          93.2,
          91.22000274658203,
          89.4199993133545,
          87.98000068664551,
          86.71999931335449,
          85.63999862670899,
          84.73999862670898,
          83.83999862670899,
          83.1199993133545,
          81.68000068664551,
          81.68000068664551,
          81.13999862670899,
          80.4199993133545,
          79.7,
          79.16000137329101,
          78.6199993133545,
          78.0800006866455,
          77.53999862670898,
          76.81999931335449,
          76.28000068664551,
          75.73999862670898,
          75.2,
          74.83999862670899,
          74.48000068664551,
          73.93999862670898,
          73.5800006866455,
          73.21999931335449,
          73.03999862670898,
          72.31999931335449,
          71.96000137329102,
          71.78000068664551,
          71.4199993133545,
          71.23999862670898,
          70.8800006866455,
          70.8800006866455,
          70.8800006866455,
          70.8800006866455,
          70.7,
          70.7,
          70.7,
          70.51999931335449,
          70.33999862670899,
          70.16000137329101,
          70.16000137329101,
          69.98000068664551,
          69.98000068664551,
          69.8,
          69.6199993133545,
          69.6199993133545,
          69.43999862670898,
          69.43999862670898,
          69.26000137329102,
          69.26000137329102,
          69.0800006866455,
          68.9,
          68.9,
          68.9,
          68.71999931335449,
          68.53999862670898,
          68.36000137329101,
          68.36000137329101,
          68.36000137329101,
          68.18000068664551,
          68,
          68,
          67.81999931335449,
          67.81999931335449,
          67.81999931335449,
          67.63999862670899,
          67.46000137329102,
          67.46000137329102
         ],
         "yaxis": "y"
        }
       ],
       "layout": {
        "autosize": true,
        "coloraxis": {
         "colorbar": {
          "title": {
           "text": "Humidity"
          }
         },
         "colorscale": [
          [
           0,
           "#440154"
          ],
          [
           0.1111111111111111,
           "#482878"
          ],
          [
           0.2222222222222222,
           "#3e4989"
          ],
          [
           0.3333333333333333,
           "#31688e"
          ],
          [
           0.4444444444444444,
           "#26828e"
          ],
          [
           0.5555555555555556,
           "#1f9e89"
          ],
          [
           0.6666666666666666,
           "#35b779"
          ],
          [
           0.7777777777777778,
           "#6ece58"
          ],
          [
           0.8888888888888888,
           "#b5de2b"
          ],
          [
           1,
           "#fde725"
          ]
         ]
        },
        "grid": {
         "xaxes": [
          "x"
         ],
         "xgap": 0.1,
         "xside": "bottom",
         "yaxes": [
          "y"
         ],
         "ygap": 0.1,
         "yside": "left"
        },
        "legend": {
         "tracegroupgap": 0
        },
        "margin": {
         "t": 60
        },
        "template": {
         "data": {
          "bar": [
           {
            "marker": {
             "line": {
              "color": "rgb(17,17,17)",
              "width": 0.5
             }
            },
            "type": "bar"
           }
          ],
          "barpolar": [
           {
            "marker": {
             "line": {
              "color": "rgb(17,17,17)",
              "width": 0.5
             }
            },
            "type": "barpolar"
           }
          ],
          "carpet": [
           {
            "aaxis": {
             "endlinecolor": "#A2B1C6",
             "gridcolor": "#506784",
             "linecolor": "#506784",
             "minorgridcolor": "#506784",
             "startlinecolor": "#A2B1C6"
            },
            "baxis": {
             "endlinecolor": "#A2B1C6",
             "gridcolor": "#506784",
             "linecolor": "#506784",
             "minorgridcolor": "#506784",
             "startlinecolor": "#A2B1C6"
            },
            "type": "carpet"
           }
          ],
          "choropleth": [
           {
            "colorbar": {
             "outlinewidth": 0,
             "ticks": ""
            },
            "type": "choropleth"
           }
          ],
          "contour": [
           {
            "colorbar": {
             "outlinewidth": 0,
             "ticks": ""
            },
            "colorscale": [
             [
              0,
              "#0508b8"
             ],
             [
              0.0893854748603352,
              "#1910d8"
             ],
             [
              0.1787709497206704,
              "#3c19f0"
             ],
             [
              0.2681564245810056,
              "#6b1cfb"
             ],
             [
              0.3575418994413408,
              "#981cfd"
             ],
             [
              0.44692737430167595,
              "#bf1cfd"
             ],
             [
              0.5363128491620112,
              "#dd2bfd"
             ],
             [
              0.6256983240223464,
              "#f246fe"
             ],
             [
              0.7150837988826816,
              "#fc67fd"
             ],
             [
              0.8044692737430168,
              "#fe88fc"
             ],
             [
              0.8938547486033519,
              "#fea5fd"
             ],
             [
              0.9832402234636871,
              "#febefe"
             ],
             [
              1,
              "#fec3fe"
             ]
            ],
            "type": "contour"
           }
          ],
          "contourcarpet": [
           {
            "colorbar": {
             "outlinewidth": 0,
             "ticks": ""
            },
            "type": "contourcarpet"
           }
          ],
          "heatmap": [
           {
            "colorbar": {
             "outlinewidth": 0,
             "ticks": ""
            },
            "colorscale": [
             [
              0,
              "#0508b8"
             ],
             [
              0.0893854748603352,
              "#1910d8"
             ],
             [
              0.1787709497206704,
              "#3c19f0"
             ],
             [
              0.2681564245810056,
              "#6b1cfb"
             ],
             [
              0.3575418994413408,
              "#981cfd"
             ],
             [
              0.44692737430167595,
              "#bf1cfd"
             ],
             [
              0.5363128491620112,
              "#dd2bfd"
             ],
             [
              0.6256983240223464,
              "#f246fe"
             ],
             [
              0.7150837988826816,
              "#fc67fd"
             ],
             [
              0.8044692737430168,
              "#fe88fc"
             ],
             [
              0.8938547486033519,
              "#fea5fd"
             ],
             [
              0.9832402234636871,
              "#febefe"
             ],
             [
              1,
              "#fec3fe"
             ]
            ],
            "type": "heatmap"
           }
          ],
          "heatmapgl": [
           {
            "colorbar": {
             "outlinewidth": 0,
             "ticks": ""
            },
            "type": "heatmapgl"
           }
          ],
          "histogram": [
           {
            "marker": {
             "colorbar": {
              "outlinewidth": 0,
              "ticks": ""
             }
            },
            "type": "histogram"
           }
          ],
          "histogram2d": [
           {
            "colorbar": {
             "outlinewidth": 0,
             "ticks": ""
            },
            "colorscale": [
             [
              0,
              "#0508b8"
             ],
             [
              0.0893854748603352,
              "#1910d8"
             ],
             [
              0.1787709497206704,
              "#3c19f0"
             ],
             [
              0.2681564245810056,
              "#6b1cfb"
             ],
             [
              0.3575418994413408,
              "#981cfd"
             ],
             [
              0.44692737430167595,
              "#bf1cfd"
             ],
             [
              0.5363128491620112,
              "#dd2bfd"
             ],
             [
              0.6256983240223464,
              "#f246fe"
             ],
             [
              0.7150837988826816,
              "#fc67fd"
             ],
             [
              0.8044692737430168,
              "#fe88fc"
             ],
             [
              0.8938547486033519,
              "#fea5fd"
             ],
             [
              0.9832402234636871,
              "#febefe"
             ],
             [
              1,
              "#fec3fe"
             ]
            ],
            "type": "histogram2d"
           }
          ],
          "histogram2dcontour": [
           {
            "colorbar": {
             "outlinewidth": 0,
             "ticks": ""
            },
            "colorscale": [
             [
              0,
              "#0508b8"
             ],
             [
              0.0893854748603352,
              "#1910d8"
             ],
             [
              0.1787709497206704,
              "#3c19f0"
             ],
             [
              0.2681564245810056,
              "#6b1cfb"
             ],
             [
              0.3575418994413408,
              "#981cfd"
             ],
             [
              0.44692737430167595,
              "#bf1cfd"
             ],
             [
              0.5363128491620112,
              "#dd2bfd"
             ],
             [
              0.6256983240223464,
              "#f246fe"
             ],
             [
              0.7150837988826816,
              "#fc67fd"
             ],
             [
              0.8044692737430168,
              "#fe88fc"
             ],
             [
              0.8938547486033519,
              "#fea5fd"
             ],
             [
              0.9832402234636871,
              "#febefe"
             ],
             [
              1,
              "#fec3fe"
             ]
            ],
            "type": "histogram2dcontour"
           }
          ],
          "mesh3d": [
           {
            "colorbar": {
             "outlinewidth": 0,
             "ticks": ""
            },
            "type": "mesh3d"
           }
          ],
          "parcoords": [
           {
            "line": {
             "colorbar": {
              "outlinewidth": 0,
              "ticks": ""
             }
            },
            "type": "parcoords"
           }
          ],
          "scatter": [
           {
            "marker": {
             "line": {
              "color": "#283442"
             }
            },
            "type": "scatter"
           }
          ],
          "scatter3d": [
           {
            "marker": {
             "colorbar": {
              "outlinewidth": 0,
              "ticks": ""
             }
            },
            "type": "scatter3d"
           }
          ],
          "scattercarpet": [
           {
            "marker": {
             "colorbar": {
              "outlinewidth": 0,
              "ticks": ""
             }
            },
            "type": "scattercarpet"
           }
          ],
          "scattergeo": [
           {
            "marker": {
             "colorbar": {
              "outlinewidth": 0,
              "ticks": ""
             }
            },
            "type": "scattergeo"
           }
          ],
          "scattergl": [
           {
            "marker": {
             "line": {
              "color": "#283442"
             }
            },
            "type": "scattergl"
           }
          ],
          "scattermapbox": [
           {
            "marker": {
             "colorbar": {
              "outlinewidth": 0,
              "ticks": ""
             }
            },
            "type": "scattermapbox"
           }
          ],
          "scatterpolar": [
           {
            "marker": {
             "colorbar": {
              "outlinewidth": 0,
              "ticks": ""
             }
            },
            "type": "scatterpolar"
           }
          ],
          "scatterpolargl": [
           {
            "marker": {
             "colorbar": {
              "outlinewidth": 0,
              "ticks": ""
             }
            },
            "type": "scatterpolargl"
           }
          ],
          "scatterternary": [
           {
            "marker": {
             "colorbar": {
              "outlinewidth": 0,
              "ticks": ""
             }
            },
            "type": "scatterternary"
           }
          ],
          "surface": [
           {
            "colorbar": {
             "outlinewidth": 0,
             "ticks": ""
            },
            "type": "surface"
           }
          ],
          "table": [
           {
            "cells": {
             "fill": {
              "color": "#506784"
             },
             "line": {
              "color": "rgb(17,17,17)"
             }
            },
            "header": {
             "fill": {
              "color": "#2a3f5f"
             },
             "line": {
              "color": "rgb(17,17,17)"
             }
            },
            "type": "table"
           }
          ]
         },
         "layout": {
          "annotationdefaults": {
           "arrowcolor": "#f2f5fa",
           "arrowhead": 0,
           "arrowwidth": 1
          },
          "colorscale": {
           "diverging": [
            [
             0,
             "#8e0152"
            ],
            [
             0.1,
             "#c51b7d"
            ],
            [
             0.2,
             "#de77ae"
            ],
            [
             0.3,
             "#f1b6da"
            ],
            [
             0.4,
             "#fde0ef"
            ],
            [
             0.5,
             "#f7f7f7"
            ],
            [
             0.6,
             "#e6f5d0"
            ],
            [
             0.7,
             "#b8e186"
            ],
            [
             0.8,
             "#7fbc41"
            ],
            [
             0.9,
             "#4d9221"
            ],
            [
             1,
             "#276419"
            ]
           ],
           "sequential": [
            [
             0,
             "#0508b8"
            ],
            [
             0.0893854748603352,
             "#1910d8"
            ],
            [
             0.1787709497206704,
             "#3c19f0"
            ],
            [
             0.2681564245810056,
             "#6b1cfb"
            ],
            [
             0.3575418994413408,
             "#981cfd"
            ],
            [
             0.44692737430167595,
             "#bf1cfd"
            ],
            [
             0.5363128491620112,
             "#dd2bfd"
            ],
            [
             0.6256983240223464,
             "#f246fe"
            ],
            [
             0.7150837988826816,
             "#fc67fd"
            ],
            [
             0.8044692737430168,
             "#fe88fc"
            ],
            [
             0.8938547486033519,
             "#fea5fd"
            ],
            [
             0.9832402234636871,
             "#febefe"
            ],
            [
             1,
             "#fec3fe"
            ]
           ],
           "sequentialminus": [
            [
             0,
             "#0508b8"
            ],
            [
             0.0893854748603352,
             "#1910d8"
            ],
            [
             0.1787709497206704,
             "#3c19f0"
            ],
            [
             0.2681564245810056,
             "#6b1cfb"
            ],
            [
             0.3575418994413408,
             "#981cfd"
            ],
            [
             0.44692737430167595,
             "#bf1cfd"
            ],
            [
             0.5363128491620112,
             "#dd2bfd"
            ],
            [
             0.6256983240223464,
             "#f246fe"
            ],
            [
             0.7150837988826816,
             "#fc67fd"
            ],
            [
             0.8044692737430168,
             "#fe88fc"
            ],
            [
             0.8938547486033519,
             "#fea5fd"
            ],
            [
             0.9832402234636871,
             "#febefe"
            ],
            [
             1,
             "#fec3fe"
            ]
           ]
          },
          "colorway": [
           "#636efa",
           "#EF553B",
           "#00cc96",
           "#ab63fa",
           "#19d3f3",
           "#e763fa",
           "#FECB52",
           "#FFA15A",
           "#FF6692",
           "#B6E880"
          ],
          "font": {
           "color": "#f2f5fa"
          },
          "geo": {
           "bgcolor": "rgb(17,17,17)",
           "lakecolor": "rgb(17,17,17)",
           "landcolor": "rgb(17,17,17)",
           "showlakes": true,
           "showland": true,
           "subunitcolor": "#506784"
          },
          "hoverlabel": {
           "align": "left"
          },
          "hovermode": "closest",
          "mapbox": {
           "style": "dark"
          },
          "paper_bgcolor": "rgb(17,17,17)",
          "plot_bgcolor": "rgb(17,17,17)",
          "polar": {
           "angularaxis": {
            "gridcolor": "#506784",
            "linecolor": "#506784",
            "ticks": ""
           },
           "bgcolor": "rgb(17,17,17)",
           "radialaxis": {
            "gridcolor": "#506784",
            "linecolor": "#506784",
            "ticks": ""
           }
          },
          "scene": {
           "xaxis": {
            "backgroundcolor": "rgb(17,17,17)",
            "gridcolor": "#506784",
            "gridwidth": 2,
            "linecolor": "#506784",
            "showbackground": true,
            "ticks": "",
            "zerolinecolor": "#C8D4E3"
           },
           "yaxis": {
            "backgroundcolor": "rgb(17,17,17)",
            "gridcolor": "#506784",
            "gridwidth": 2,
            "linecolor": "#506784",
            "showbackground": true,
            "ticks": "",
            "zerolinecolor": "#C8D4E3"
           },
           "zaxis": {
            "backgroundcolor": "rgb(17,17,17)",
            "gridcolor": "#506784",
            "gridwidth": 2,
            "linecolor": "#506784",
            "showbackground": true,
            "ticks": "",
            "zerolinecolor": "#C8D4E3"
           }
          },
          "shapedefaults": {
           "fillcolor": "#f2f5fa",
           "line": {
            "width": 0
           },
           "opacity": 0.4
          },
          "sliderdefaults": {
           "bgcolor": "#C8D4E3",
           "bordercolor": "rgb(17,17,17)",
           "borderwidth": 1,
           "tickwidth": 0
          },
          "ternary": {
           "aaxis": {
            "gridcolor": "#506784",
            "linecolor": "#506784",
            "ticks": ""
           },
           "baxis": {
            "gridcolor": "#506784",
            "linecolor": "#506784",
            "ticks": ""
           },
           "bgcolor": "rgb(17,17,17)",
           "caxis": {
            "gridcolor": "#506784",
            "linecolor": "#506784",
            "ticks": ""
           }
          },
          "title": {
           "x": 0.05
          },
          "updatemenudefaults": {
           "bgcolor": "#506784",
           "borderwidth": 0
          },
          "xaxis": {
           "automargin": true,
           "gridcolor": "#283442",
           "linecolor": "#506784",
           "ticks": "",
           "zerolinecolor": "#283442",
           "zerolinewidth": 2
          },
          "yaxis": {
           "automargin": true,
           "gridcolor": "#283442",
           "linecolor": "#506784",
           "ticks": "",
           "zerolinecolor": "#283442",
           "zerolinewidth": 2
          }
         }
        },
        "xaxis": {
         "autorange": true,
         "range": [
          "2019-07-16 18:08:52.6966",
          "2019-07-17 01:28:35.0502"
         ],
         "showspikes": false,
         "title": {
          "text": "Local"
         },
         "type": "date"
        },
        "yaxis": {
         "autorange": true,
         "range": [
          65.69509389532449,
          96.0449047313845
         ],
         "showspikes": false,
         "title": {
          "text": "Temp"
         },
         "type": "linear"
        }
       }
      },
      "image/png": "[encoded data removed]",
      "text/html": [
       "<div>\n",
       "        \n",
       "        \n",
       "            <div id=\"42f7a60a-d7de-45da-aa58-78ba1ae48798\" class=\"plotly-graph-div\" style=\"height:600px; width:100%;\"></div>\n",
       "            <script type=\"text/javascript\">\n",
       "                require([\"plotly\"], function(Plotly) {\n",
       "                    window.PLOTLYENV=window.PLOTLYENV || {};\n",
       "                    window.PLOTLYENV.BASE_URL='https://plot.ly';\n",
       "                    \n",
       "                if (document.getElementById(\"42f7a60a-d7de-45da-aa58-78ba1ae48798\")) {\n",
       "                    Plotly.newPlot(\n",
       "                        '42f7a60a-d7de-45da-aa58-78ba1ae48798',\n",
       "                        [{\"hoverlabel\": {\"namelength\": 0}, \"hovertemplate\": \"Local=%{x}<br>Temp=%{y}<br>Humidity=%{marker.color}\", \"legendgroup\": \"\", \"marker\": {\"color\": [38.400001525878906, 35.400001525878906, 33.599998474121094, 31.899999618530273, 30.899999618530273, 30.799999237060547, 30.600000381469727, 30.200000762939453, 30.299999237060547, 31.5, 32.099998474121094, 32.70000076293945, 33.400001525878906, 34.20000076293945, 34.900001525878906, 35.70000076293945, 36.400001525878906, 37.599998474121094, 37.599998474121094, 38.5, 38.900001525878906, 39.400001525878906, 40.0, 40.5, 41.0, 41.29999923706055, 41.70000076293945, 42.20000076293945, 42.599998474121094, 43.20000076293945, 43.5, 44.0, 44.5, 45.0, 45.099998474121094, 45.5, 46.20000076293945, 46.400001525878906, 46.900001525878906, 47.0, 47.70000076293945, 47.70000076293945, 48.099998474121094, 48.099998474121094, 48.0, 47.79999923706055, 47.599998474121094, 47.599998474121094, 47.5, 47.5, 47.599998474121094, 47.70000076293945, 48.400001525878906, 48.599998474121094, 48.70000076293945, 49.0, 49.599998474121094, 50.29999923706055, 50.29999923706055, 50.79999923706055, 51.20000076293945, 51.70000076293945, 51.5, 51.70000076293945, 51.70000076293945, 51.79999923706055, 51.79999923706055, 52.099998474121094, 52.0, 52.099998474121094, 51.79999923706055, 51.79999923706055, 51.79999923706055, 51.79999923706055, 52.0, 52.400001525878906, 52.900001525878906, 53.29999923706055, 53.29999923706055], \"coloraxis\": \"coloraxis\", \"symbol\": \"circle\"}, \"mode\": \"markers\", \"name\": \"\", \"showlegend\": false, \"type\": \"scatter\", \"uid\": \"8d70e3e4-6071-47b4-9fed-79f35b2f62ad\", \"x\": [\"2019-07-16 18:32:36.285070\", \"2019-07-16 18:37:36.970806\", \"2019-07-16 18:42:37.618316\", \"2019-07-16 18:47:38.299893\", \"2019-07-16 18:52:38.947790\", \"2019-07-16 18:57:39.628423\", \"2019-07-16 19:02:40.284120\", \"2019-07-16 19:07:40.958951\", \"2019-07-16 19:12:41.604074\", \"2019-07-16 19:17:42.277707\", \"2019-07-16 19:22:42.935464\", \"2019-07-16 19:27:43.608889\", \"2019-07-16 19:32:44.252275\", \"2019-07-16 19:37:44.921766\", \"2019-07-16 19:42:45.575949\", \"2019-07-16 19:47:46.252049\", \"2019-07-16 19:52:46.899340\", \"2019-07-16 19:57:50.103112\", \"2019-07-16 20:02:50.690485\", \"2019-07-16 20:07:51.363918\", \"2019-07-16 20:12:51.980504\", \"2019-07-16 20:17:52.658184\", \"2019-07-16 20:22:53.337270\", \"2019-07-16 20:27:53.942061\", \"2019-07-16 20:32:54.620176\", \"2019-07-16 20:37:55.214441\", \"2019-07-16 20:42:55.800773\", \"2019-07-16 20:47:56.475206\", \"2019-07-16 20:52:57.154364\", \"2019-07-16 20:57:57.829235\", \"2019-07-16 21:02:58.430880\", \"2019-07-16 21:07:59.112920\", \"2019-07-16 21:12:59.788583\", \"2019-07-16 21:18:00.463134\", \"2019-07-16 21:23:01.158887\", \"2019-07-16 21:28:01.828909\", \"2019-07-16 21:33:27.848925\", \"2019-07-16 21:38:33.539038\", \"2019-07-16 21:43:39.283655\", \"2019-07-16 21:48:50.090918\", \"2019-07-16 21:53:55.931380\", \"2019-07-16 21:59:21.841499\", \"2019-07-16 22:04:25.059542\", \"2019-07-16 22:09:25.708324\", \"2019-07-16 22:14:26.350630\", \"2019-07-16 22:19:26.994552\", \"2019-07-16 22:24:27.654188\", \"2019-07-16 22:29:28.301440\", \"2019-07-16 22:34:28.963791\", \"2019-07-16 22:39:29.689711\", \"2019-07-16 22:44:30.395321\", \"2019-07-16 22:49:31.110274\", \"2019-07-16 22:54:31.762398\", \"2019-07-16 22:59:32.360482\", \"2019-07-16 23:04:33.017154\", \"2019-07-16 23:09:33.790097\", \"2019-07-16 23:14:34.449676\", \"2019-07-16 23:19:35.185163\", \"2019-07-16 23:24:35.779711\", \"2019-07-16 23:29:36.427902\", \"2019-07-16 23:34:37.069482\", \"2019-07-16 23:39:37.737438\", \"2019-07-16 23:44:38.421884\", \"2019-07-16 23:49:39.067892\", \"2019-07-16 23:54:39.659335\", \"2019-07-16 23:59:40.240442\", \"2019-07-17 00:04:40.899946\", \"2019-07-17 00:09:41.581716\", \"2019-07-17 00:14:42.190321\", \"2019-07-17 00:19:42.840653\", \"2019-07-17 00:24:45.936688\", \"2019-07-17 00:29:46.627184\", \"2019-07-17 00:34:47.276624\", \"2019-07-17 00:39:48.040745\", \"2019-07-17 00:44:48.793963\", \"2019-07-17 00:49:49.530106\", \"2019-07-17 00:54:50.214685\", \"2019-07-17 00:59:50.853501\", \"2019-07-17 01:04:51.461781\"], \"xaxis\": \"x\", \"y\": [86.36000137329101, 89.96000137329102, 91.93999862670898, 93.56000137329102, 94.1, 93.73999862670898, 94.1, 94.27999725341797, 93.2, 91.22000274658203, 89.4199993133545, 87.98000068664551, 86.71999931335449, 85.63999862670899, 84.73999862670898, 83.83999862670899, 83.1199993133545, 81.68000068664551, 81.68000068664551, 81.13999862670899, 80.4199993133545, 79.7, 79.16000137329101, 78.6199993133545, 78.0800006866455, 77.53999862670898, 76.81999931335449, 76.28000068664551, 75.73999862670898, 75.2, 74.83999862670899, 74.48000068664551, 73.93999862670898, 73.5800006866455, 73.21999931335449, 73.03999862670898, 72.31999931335449, 71.96000137329102, 71.78000068664551, 71.4199993133545, 71.23999862670898, 70.8800006866455, 70.8800006866455, 70.8800006866455, 70.8800006866455, 70.7, 70.7, 70.7, 70.51999931335449, 70.33999862670899, 70.16000137329101, 70.16000137329101, 69.98000068664551, 69.98000068664551, 69.8, 69.6199993133545, 69.6199993133545, 69.43999862670898, 69.43999862670898, 69.26000137329102, 69.26000137329102, 69.0800006866455, 68.9, 68.9, 68.9, 68.71999931335449, 68.53999862670898, 68.36000137329101, 68.36000137329101, 68.36000137329101, 68.18000068664551, 68.0, 68.0, 67.81999931335449, 67.81999931335449, 67.81999931335449, 67.63999862670899, 67.46000137329102, 67.46000137329102], \"yaxis\": \"y\"}],\n",
       "                        {\"coloraxis\": {\"colorbar\": {\"title\": {\"text\": \"Humidity\"}}, \"colorscale\": [[0.0, \"#440154\"], [0.1111111111111111, \"#482878\"], [0.2222222222222222, \"#3e4989\"], [0.3333333333333333, \"#31688e\"], [0.4444444444444444, \"#26828e\"], [0.5555555555555556, \"#1f9e89\"], [0.6666666666666666, \"#35b779\"], [0.7777777777777778, \"#6ece58\"], [0.8888888888888888, \"#b5de2b\"], [1.0, \"#fde725\"]]}, \"grid\": {\"xaxes\": [\"x\"], \"xgap\": 0.1, \"xside\": \"bottom\", \"yaxes\": [\"y\"], \"ygap\": 0.1, \"yside\": \"left\"}, \"height\": 600, \"legend\": {\"tracegroupgap\": 0}, \"margin\": {\"t\": 60}, \"template\": {\"data\": {\"bar\": [{\"marker\": {\"line\": {\"color\": \"rgb(17,17,17)\", \"width\": 0.5}}, \"type\": \"bar\"}], \"barpolar\": [{\"marker\": {\"line\": {\"color\": \"rgb(17,17,17)\", \"width\": 0.5}}, \"type\": \"barpolar\"}], \"carpet\": [{\"aaxis\": {\"endlinecolor\": \"#A2B1C6\", \"gridcolor\": \"#506784\", \"linecolor\": \"#506784\", \"minorgridcolor\": \"#506784\", \"startlinecolor\": \"#A2B1C6\"}, \"baxis\": {\"endlinecolor\": \"#A2B1C6\", \"gridcolor\": \"#506784\", \"linecolor\": \"#506784\", \"minorgridcolor\": \"#506784\", \"startlinecolor\": \"#A2B1C6\"}, \"type\": \"carpet\"}], \"choropleth\": [{\"colorbar\": {\"outlinewidth\": 0, \"ticks\": \"\"}, \"type\": \"choropleth\"}], \"contour\": [{\"colorbar\": {\"outlinewidth\": 0, \"ticks\": \"\"}, \"colorscale\": [[0.0, \"#0508b8\"], [0.0893854748603352, \"#1910d8\"], [0.1787709497206704, \"#3c19f0\"], [0.2681564245810056, \"#6b1cfb\"], [0.3575418994413408, \"#981cfd\"], [0.44692737430167595, \"#bf1cfd\"], [0.5363128491620112, \"#dd2bfd\"], [0.6256983240223464, \"#f246fe\"], [0.7150837988826816, \"#fc67fd\"], [0.8044692737430168, \"#fe88fc\"], [0.8938547486033519, \"#fea5fd\"], [0.9832402234636871, \"#febefe\"], [1.0, \"#fec3fe\"]], \"type\": \"contour\"}], \"contourcarpet\": [{\"colorbar\": {\"outlinewidth\": 0, \"ticks\": \"\"}, \"type\": \"contourcarpet\"}], \"heatmap\": [{\"colorbar\": {\"outlinewidth\": 0, \"ticks\": \"\"}, \"colorscale\": [[0.0, \"#0508b8\"], [0.0893854748603352, \"#1910d8\"], [0.1787709497206704, \"#3c19f0\"], [0.2681564245810056, \"#6b1cfb\"], [0.3575418994413408, \"#981cfd\"], [0.44692737430167595, \"#bf1cfd\"], [0.5363128491620112, \"#dd2bfd\"], [0.6256983240223464, \"#f246fe\"], [0.7150837988826816, \"#fc67fd\"], [0.8044692737430168, \"#fe88fc\"], [0.8938547486033519, \"#fea5fd\"], [0.9832402234636871, \"#febefe\"], [1.0, \"#fec3fe\"]], \"type\": \"heatmap\"}], \"heatmapgl\": [{\"colorbar\": {\"outlinewidth\": 0, \"ticks\": \"\"}, \"type\": \"heatmapgl\"}], \"histogram\": [{\"marker\": {\"colorbar\": {\"outlinewidth\": 0, \"ticks\": \"\"}}, \"type\": \"histogram\"}], \"histogram2d\": [{\"colorbar\": {\"outlinewidth\": 0, \"ticks\": \"\"}, \"colorscale\": [[0.0, \"#0508b8\"], [0.0893854748603352, \"#1910d8\"], [0.1787709497206704, \"#3c19f0\"], [0.2681564245810056, \"#6b1cfb\"], [0.3575418994413408, \"#981cfd\"], [0.44692737430167595, \"#bf1cfd\"], [0.5363128491620112, \"#dd2bfd\"], [0.6256983240223464, \"#f246fe\"], [0.7150837988826816, \"#fc67fd\"], [0.8044692737430168, \"#fe88fc\"], [0.8938547486033519, \"#fea5fd\"], [0.9832402234636871, \"#febefe\"], [1.0, \"#fec3fe\"]], \"type\": \"histogram2d\"}], \"histogram2dcontour\": [{\"colorbar\": {\"outlinewidth\": 0, \"ticks\": \"\"}, \"colorscale\": [[0.0, \"#0508b8\"], [0.0893854748603352, \"#1910d8\"], [0.1787709497206704, \"#3c19f0\"], [0.2681564245810056, \"#6b1cfb\"], [0.3575418994413408, \"#981cfd\"], [0.44692737430167595, \"#bf1cfd\"], [0.5363128491620112, \"#dd2bfd\"], [0.6256983240223464, \"#f246fe\"], [0.7150837988826816, \"#fc67fd\"], [0.8044692737430168, \"#fe88fc\"], [0.8938547486033519, \"#fea5fd\"], [0.9832402234636871, \"#febefe\"], [1.0, \"#fec3fe\"]], \"type\": \"histogram2dcontour\"}], \"mesh3d\": [{\"colorbar\": {\"outlinewidth\": 0, \"ticks\": \"\"}, \"type\": \"mesh3d\"}], \"parcoords\": [{\"line\": {\"colorbar\": {\"outlinewidth\": 0, \"ticks\": \"\"}}, \"type\": \"parcoords\"}], \"scatter\": [{\"marker\": {\"line\": {\"color\": \"#283442\"}}, \"type\": \"scatter\"}], \"scatter3d\": [{\"marker\": {\"colorbar\": {\"outlinewidth\": 0, \"ticks\": \"\"}}, \"type\": \"scatter3d\"}], \"scattercarpet\": [{\"marker\": {\"colorbar\": {\"outlinewidth\": 0, \"ticks\": \"\"}}, \"type\": \"scattercarpet\"}], \"scattergeo\": [{\"marker\": {\"colorbar\": {\"outlinewidth\": 0, \"ticks\": \"\"}}, \"type\": \"scattergeo\"}], \"scattergl\": [{\"marker\": {\"line\": {\"color\": \"#283442\"}}, \"type\": \"scattergl\"}], \"scattermapbox\": [{\"marker\": {\"colorbar\": {\"outlinewidth\": 0, \"ticks\": \"\"}}, \"type\": \"scattermapbox\"}], \"scatterpolar\": [{\"marker\": {\"colorbar\": {\"outlinewidth\": 0, \"ticks\": \"\"}}, \"type\": \"scatterpolar\"}], \"scatterpolargl\": [{\"marker\": {\"colorbar\": {\"outlinewidth\": 0, \"ticks\": \"\"}}, \"type\": \"scatterpolargl\"}], \"scatterternary\": [{\"marker\": {\"colorbar\": {\"outlinewidth\": 0, \"ticks\": \"\"}}, \"type\": \"scatterternary\"}], \"surface\": [{\"colorbar\": {\"outlinewidth\": 0, \"ticks\": \"\"}, \"type\": \"surface\"}], \"table\": [{\"cells\": {\"fill\": {\"color\": \"#506784\"}, \"line\": {\"color\": \"rgb(17,17,17)\"}}, \"header\": {\"fill\": {\"color\": \"#2a3f5f\"}, \"line\": {\"color\": \"rgb(17,17,17)\"}}, \"type\": \"table\"}]}, \"layout\": {\"annotationdefaults\": {\"arrowcolor\": \"#f2f5fa\", \"arrowhead\": 0, \"arrowwidth\": 1}, \"colorscale\": {\"diverging\": [[0, \"#8e0152\"], [0.1, \"#c51b7d\"], [0.2, \"#de77ae\"], [0.3, \"#f1b6da\"], [0.4, \"#fde0ef\"], [0.5, \"#f7f7f7\"], [0.6, \"#e6f5d0\"], [0.7, \"#b8e186\"], [0.8, \"#7fbc41\"], [0.9, \"#4d9221\"], [1, \"#276419\"]], \"sequential\": [[0.0, \"#0508b8\"], [0.0893854748603352, \"#1910d8\"], [0.1787709497206704, \"#3c19f0\"], [0.2681564245810056, \"#6b1cfb\"], [0.3575418994413408, \"#981cfd\"], [0.44692737430167595, \"#bf1cfd\"], [0.5363128491620112, \"#dd2bfd\"], [0.6256983240223464, \"#f246fe\"], [0.7150837988826816, \"#fc67fd\"], [0.8044692737430168, \"#fe88fc\"], [0.8938547486033519, \"#fea5fd\"], [0.9832402234636871, \"#febefe\"], [1.0, \"#fec3fe\"]], \"sequentialminus\": [[0.0, \"#0508b8\"], [0.0893854748603352, \"#1910d8\"], [0.1787709497206704, \"#3c19f0\"], [0.2681564245810056, \"#6b1cfb\"], [0.3575418994413408, \"#981cfd\"], [0.44692737430167595, \"#bf1cfd\"], [0.5363128491620112, \"#dd2bfd\"], [0.6256983240223464, \"#f246fe\"], [0.7150837988826816, \"#fc67fd\"], [0.8044692737430168, \"#fe88fc\"], [0.8938547486033519, \"#fea5fd\"], [0.9832402234636871, \"#febefe\"], [1.0, \"#fec3fe\"]]}, \"colorway\": [\"#636efa\", \"#EF553B\", \"#00cc96\", \"#ab63fa\", \"#19d3f3\", \"#e763fa\", \"#FECB52\", \"#FFA15A\", \"#FF6692\", \"#B6E880\"], \"font\": {\"color\": \"#f2f5fa\"}, \"geo\": {\"bgcolor\": \"rgb(17,17,17)\", \"lakecolor\": \"rgb(17,17,17)\", \"landcolor\": \"rgb(17,17,17)\", \"showlakes\": true, \"showland\": true, \"subunitcolor\": \"#506784\"}, \"hoverlabel\": {\"align\": \"left\"}, \"hovermode\": \"closest\", \"mapbox\": {\"style\": \"dark\"}, \"paper_bgcolor\": \"rgb(17,17,17)\", \"plot_bgcolor\": \"rgb(17,17,17)\", \"polar\": {\"angularaxis\": {\"gridcolor\": \"#506784\", \"linecolor\": \"#506784\", \"ticks\": \"\"}, \"bgcolor\": \"rgb(17,17,17)\", \"radialaxis\": {\"gridcolor\": \"#506784\", \"linecolor\": \"#506784\", \"ticks\": \"\"}}, \"scene\": {\"xaxis\": {\"backgroundcolor\": \"rgb(17,17,17)\", \"gridcolor\": \"#506784\", \"gridwidth\": 2, \"linecolor\": \"#506784\", \"showbackground\": true, \"ticks\": \"\", \"zerolinecolor\": \"#C8D4E3\"}, \"yaxis\": {\"backgroundcolor\": \"rgb(17,17,17)\", \"gridcolor\": \"#506784\", \"gridwidth\": 2, \"linecolor\": \"#506784\", \"showbackground\": true, \"ticks\": \"\", \"zerolinecolor\": \"#C8D4E3\"}, \"zaxis\": {\"backgroundcolor\": \"rgb(17,17,17)\", \"gridcolor\": \"#506784\", \"gridwidth\": 2, \"linecolor\": \"#506784\", \"showbackground\": true, \"ticks\": \"\", \"zerolinecolor\": \"#C8D4E3\"}}, \"shapedefaults\": {\"fillcolor\": \"#f2f5fa\", \"line\": {\"width\": 0}, \"opacity\": 0.4}, \"sliderdefaults\": {\"bgcolor\": \"#C8D4E3\", \"bordercolor\": \"rgb(17,17,17)\", \"borderwidth\": 1, \"tickwidth\": 0}, \"ternary\": {\"aaxis\": {\"gridcolor\": \"#506784\", \"linecolor\": \"#506784\", \"ticks\": \"\"}, \"baxis\": {\"gridcolor\": \"#506784\", \"linecolor\": \"#506784\", \"ticks\": \"\"}, \"bgcolor\": \"rgb(17,17,17)\", \"caxis\": {\"gridcolor\": \"#506784\", \"linecolor\": \"#506784\", \"ticks\": \"\"}}, \"title\": {\"x\": 0.05}, \"updatemenudefaults\": {\"bgcolor\": \"#506784\", \"borderwidth\": 0}, \"xaxis\": {\"automargin\": true, \"gridcolor\": \"#283442\", \"linecolor\": \"#506784\", \"ticks\": \"\", \"zerolinecolor\": \"#283442\", \"zerolinewidth\": 2}, \"yaxis\": {\"automargin\": true, \"gridcolor\": \"#283442\", \"linecolor\": \"#506784\", \"ticks\": \"\", \"zerolinecolor\": \"#283442\", \"zerolinewidth\": 2}}}, \"xaxis\": {\"title\": {\"text\": \"Local\"}}, \"yaxis\": {\"title\": {\"text\": \"Temp\"}}},\n",
       "                        {\"showLink\": false, \"linkText\": \"Export to plot.ly\", \"plotlyServerURL\": \"https://plot.ly\", \"responsive\": true}\n",
       "                    ).then(function(){\n",
       "                            \n",
       "var gd = document.getElementById('42f7a60a-d7de-45da-aa58-78ba1ae48798');\n",
       "var x = new MutationObserver(function (mutations, observer) {{\n",
       "        var display = window.getComputedStyle(gd).display;\n",
       "        if (!display || display === 'none') {{\n",
       "            console.log([gd, 'removed!']);\n",
       "            Plotly.purge(gd);\n",
       "            observer.disconnect();\n",
       "        }}\n",
       "}});\n",
       "\n",
       "// Listen for the removal of the full notebook cells\n",
       "var notebookContainer = gd.closest('#notebook-container');\n",
       "if (notebookContainer) {{\n",
       "    x.observe(notebookContainer, {childList: true});\n",
       "}}\n",
       "\n",
       "// Listen for the clearing of the current output cell\n",
       "var outputEl = gd.closest('.output');\n",
       "if (outputEl) {{\n",
       "    x.observe(outputEl, {childList: true});\n",
       "}}\n",
       "\n",
       "                        })\n",
       "                };\n",
       "                });\n",
       "            </script>\n",
       "        </div>"
      ]
     },
     "metadata": {},
     "output_type": "display_data"
    }
   ],
   "source": [
    "px.scatter(df, x='Local', y='Temp', color='Humidity', template='plotly_dark', color_continuous_scale=px.colors.sequential.Viridis)"
   ]
  },
  {
   "cell_type": "code",
   "execution_count": 14,
   "metadata": {},
   "outputs": [
    {
     "data": {
      "text/plain": [
       "UTC         0\n",
       "Local       0\n",
       "Temp        0\n",
       "Humidity    0\n",
       "dtype: int64"
      ]
     },
     "execution_count": 14,
     "metadata": {},
     "output_type": "execute_result"
    }
   ],
   "source": [
    "df.isna().sum()"
   ]
  },
  {
   "cell_type": "markdown",
   "metadata": {},
   "source": [
    "## Old code to parse text logs\n",
    "---"
   ]
  },
  {
   "cell_type": "code",
   "execution_count": 11,
   "metadata": {},
   "outputs": [],
   "source": [
    "#fname = \"/home/jedediah/Mount/USB/Logs/InternalConditions.log\"\n",
    "#my_cols = ['Date', 'Temp', 'Hum']\n",
    "#df = pd.read_csv(fname, sep=\",|]\", names=my_cols, engine='python')"
   ]
  },
  {
   "cell_type": "code",
   "execution_count": 12,
   "metadata": {},
   "outputs": [],
   "source": [
    "#df.Date = pd.to_datetime(df.Date.str.strip('['))\n",
    "#df.Temp = df.Temp.str.strip('Temp: ').str.strip('F')#.astype(float)\n",
    "#df.Hum = df.Hum.str.strip('Hum: ').str.strip('%')#.astype(float)"
   ]
  },
  {
   "cell_type": "code",
   "execution_count": 13,
   "metadata": {},
   "outputs": [],
   "source": [
    "#df.loc[(df.Temp == 'NA'), 'Temp'] = np.nan\n",
    "#df.loc[(df.Hum == 'NA'), 'Hum'] = np.nan\n",
    "#df.Temp = df.Temp.astype(float)\n",
    "#df.Hum = df.Hum.astype(float)\n",
    "#df.loc[(df.Temp > 150) | (df.Temp < 30), 'Temp'] = np.nan\n",
    "#df.loc[df.Hum > 100, 'Hum'] = np.nan"
   ]
  }
 ],
 "metadata": {
  "kernelspec": {
   "display_name": "Python 3",
   "language": "python",
   "name": "python3"
  },
  "language_info": {
   "codemirror_mode": {
    "name": "ipython",
    "version": 3
   },
   "file_extension": ".py",
   "mimetype": "text/x-python",
   "name": "python",
   "nbconvert_exporter": "python",
   "pygments_lexer": "ipython3",
   "version": "3.7.3"
  }
 },
 "nbformat": 4,
 "nbformat_minor": 2
}
